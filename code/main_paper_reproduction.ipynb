{
 "cells": [
  {
   "cell_type": "code",
   "execution_count": 1,
   "id": "1da7a41c-bb61-449d-884d-329fc29beada",
   "metadata": {},
   "outputs": [],
   "source": [
    "%load_ext lab_black"
   ]
  },
  {
   "cell_type": "markdown",
   "id": "f275768f-de16-44c7-b07b-247388de49fe",
   "metadata": {},
   "source": [
    "# Necessary installations, imports"
   ]
  },
  {
   "cell_type": "code",
   "execution_count": 1,
   "id": "31bf4e18-4e3e-4a19-84e2-ba3a9cc7ce98",
   "metadata": {},
   "outputs": [],
   "source": [
    "import numpy as np\n",
    "import pandas as pd\n",
    "import requests\n",
    "import networkx as nx\n",
    "import matplotlib.pyplot as plt\n",
    "import seaborn as sns\n",
    "from tqdm.notebook import tqdm\n",
    "from gensim.models import Word2Vec\n",
    "from sklearn.metrics.pairwise import rbf_kernel\n",
    "from sklearn.metrics import mean_squared_error\n",
    "from scipy.sparse import csr_matrix\n",
    "from scipy.sparse.linalg import eigs"
   ]
  },
  {
   "cell_type": "code",
   "execution_count": 4,
   "id": "1cc8cbdc-849b-49b5-b124-46ef7275ed12",
   "metadata": {},
   "outputs": [],
   "source": [
    "from algorithms import *\n",
    "from similarity_measures import *"
   ]
  },
  {
   "cell_type": "markdown",
   "id": "6fc50725-e613-4321-83db-0f9f556dcfec",
   "metadata": {},
   "source": [
    "# Experiments "
   ]
  },
  {
   "cell_type": "markdown",
   "id": "ff7fd5d4-d5d3-4dc0-8a0b-d42933265a53",
   "metadata": {
    "tags": []
   },
   "source": [
    "## Naive experiment on the generated data\n",
    "\n",
    "In this section we create somewhat of a graph, initializing a random matrix and tranforming in to sparse format to serve as the algorithms inputs.\n",
    "This section bares no scientific value, in simply proves that the code works correctly."
   ]
  },
  {
   "cell_type": "code",
   "execution_count": null,
   "id": "7383031c-886b-477c-90e0-feebf59acd36",
   "metadata": {},
   "outputs": [],
   "source": []
  },
  {
   "cell_type": "markdown",
   "id": "b6b945ae-79fa-4c12-9568-926c9a478deb",
   "metadata": {},
   "source": [
    "## Procedure-based network models\n",
    "\n",
    "In this section we compare the results of the algorithms/similarity measure inductions on the several procudure-generated network models.\n",
    "Those are exactly:\n",
    "\n",
    "1. LSM (Latend Space Model)\n",
    "2. SBM (Stochastic Block Model)\n",
    "3. MMSB (Stochastic Membership Block Model)\n",
    "4. RDPGm (Random Dot Product Graph Model)\n"
   ]
  },
  {
   "cell_type": "markdown",
   "id": "b8a5ea62-c971-4b60-807d-7d4d745e40f4",
   "metadata": {
    "tags": []
   },
   "source": [
    "## Real datasets"
   ]
  },
  {
   "cell_type": "markdown",
   "id": "56b53f4c-a613-4f95-8538-210c85a133ae",
   "metadata": {},
   "source": [
    "## CORE"
   ]
  },
  {
   "cell_type": "markdown",
   "id": "4b86ddb1-6768-4ad1-a611-983703b95f76",
   "metadata": {},
   "source": [
    "## CITESEER "
   ]
  },
  {
   "cell_type": "markdown",
   "id": "8dcc4d1e-68dd-4c9b-a672-3d1caa3f5f52",
   "metadata": {},
   "source": [
    "## Images as networks"
   ]
  },
  {
   "cell_type": "code",
   "execution_count": null,
   "id": "01b5eb59-99bc-4af9-ac1b-3d95a4056a09",
   "metadata": {},
   "outputs": [],
   "source": []
  }
 ],
 "metadata": {
  "kernelspec": {
   "display_name": "Python 3 (ipykernel)",
   "language": "python",
   "name": "python3"
  },
  "language_info": {
   "codemirror_mode": {
    "name": "ipython",
    "version": 3
   },
   "file_extension": ".py",
   "mimetype": "text/x-python",
   "name": "python",
   "nbconvert_exporter": "python",
   "pygments_lexer": "ipython3",
   "version": "3.10.9"
  }
 },
 "nbformat": 4,
 "nbformat_minor": 5
}
