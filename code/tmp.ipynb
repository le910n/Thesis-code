{
 "cells": [
  {
   "cell_type": "code",
   "execution_count": 40,
   "id": "2a3897c9-bb9e-48dd-b89d-d2457d453e47",
   "metadata": {},
   "outputs": [],
   "source": [
    "import os\n",
    "import numpy as np\n",
    "import pandas as pd\n",
    "import networkx as nx\n",
    "from scipy.sparse import csr_matrix, diags\n",
    "\n",
    "project_dir = '/Users/u_m1anq/Desktop/Thesis-code/'\n",
    "data_dir = os.path.join(project_dir, 'data/processed/cora')"
   ]
  },
  {
   "cell_type": "markdown",
   "id": "c2327801-56c4-4aa1-becb-c984227c9d49",
   "metadata": {},
   "source": [
    "# Experimenting with CORE dataset"
   ]
  },
  {
   "cell_type": "code",
   "execution_count": 137,
   "id": "7e12beb2-2cb7-4f4e-af2a-48783eb428d5",
   "metadata": {
    "jupyter": {
     "source_hidden": true
    },
    "tags": []
   },
   "outputs": [],
   "source": [
    "class CoreDataset:\n",
    "    def __init__(self,\n",
    "                 data_dir = 'data/processed/cora',\n",
    "                 project_dir = '/Users/u_m1anq/Desktop/Thesis-code/'):\n",
    "        self.full_path = os.path.join(project_dir, data_dir)\n",
    "        self.X_nodes, self.X_edges, self.mapper, self.reverse_mapper = self._read_data()\n",
    "        self.adjacency = self._get_adjacency()\n",
    "        \n",
    "    def _read_data(self, return_freqs=False):\n",
    "        \n",
    "        # the nodes part    \n",
    "        node_column_names =  [\"w_{}\".format(ii) for ii in range(1433)] + [\"subject\"]\n",
    "        cora_nodes = pd.read_csv(\n",
    "            os.path.join(self.full_path, \"cora.content\"),\n",
    "            sep='\\t',\n",
    "            header=None,\n",
    "            names=node_column_names)\n",
    "        # depending on whether we need additional covariates\n",
    "        # those are certain words' frequences\n",
    "        if not return_freqs:\n",
    "            X_nodes = cora_nodes['subject'].reset_index()\n",
    "        else:\n",
    "            X_nodes = cora_nodes\n",
    "            \n",
    "        # the edges part\n",
    "        cora_edges = pd.read_csv(\n",
    "            os.path.join(self.full_path, \"cora.cites\"),\n",
    "            sep='\\t',\n",
    "            header=None,\n",
    "            names=[\"target\", \"source\"]\n",
    "            )       \n",
    "        rows, cols = cora_edges['target'], cora_edges['source']\n",
    "        \n",
    "        # the info is somewhat encoded, to be clear we are to map the names\n",
    "        keys = list(set(rows)|set(cols))\n",
    "        keys.sort()\n",
    "        \n",
    "        mapper = {}\n",
    "        for i, k in enumerate(keys):\n",
    "            mapper[k] = i\n",
    "\n",
    "        # we also are to create the reverse-mapper in case we need the backward-turn\n",
    "        reverse_mapper = {}\n",
    "        for k, v in mapper.items():\n",
    "            reverse_mapper[v] = k\n",
    "        \n",
    "        \n",
    "            \n",
    "        # now use the forward mapper to keep the new nodenames\n",
    "        rows = edgelist['target'].map(mapper)\n",
    "        cols = edgelist['source'].map(mapper)\n",
    "        X_edges = list(zip(rows, cols))\n",
    "        \n",
    "        # also use the same mapper on the X_nodes_info\n",
    "        X_nodes['index'] = X_nodes['index'].map(mapper)\n",
    "        X_nodes.rename({'index': 'node'}, axis=1, inplace=True)\n",
    "        \n",
    "        return X_nodes, X_edges, mapper, reverse_mapper\n",
    "            \n",
    "    \n",
    "    def _get_adjacency(self, csr=True):\n",
    "        \"\"\"\n",
    "        Effectively preprocesses the explicit edgelist into scipy.sparse.csr_matric (m.b. coo faster?)\n",
    "        \"\"\"\n",
    "        size = len(set([n for e in self.X_edges for n in e])) \n",
    "        # make an empty adjacency list  \n",
    "        adjacency = [[0]*size for _ in range(size)]\n",
    "        # populate the list for each edge\n",
    "        for sink, source in E:\n",
    "            adjacency[sink][source] = 1\n",
    "\n",
    "        # turn the datatype\n",
    "        return csr_matrix(adjacency) if csr else np.array(adjacency)\n",
    "    \n",
    "    def random_covariate_noise"
   ]
  },
  {
   "cell_type": "code",
   "execution_count": 1,
   "id": "7220f83f-b62f-4163-b3db-9b654b690ba9",
   "metadata": {},
   "outputs": [],
   "source": [
    "# actually we may want to perform several experiments: with topic-distribution or without\n",
    "# as the authous did it with topic_distribution, "
   ]
  },
  {
   "cell_type": "code",
   "execution_count": null,
   "id": "1eeff863-5cd2-475a-bc2a-95e43920027a",
   "metadata": {},
   "outputs": [],
   "source": []
  }
 ],
 "metadata": {
  "kernelspec": {
   "display_name": "Python 3 (ipykernel)",
   "language": "python",
   "name": "python3"
  },
  "language_info": {
   "codemirror_mode": {
    "name": "ipython",
    "version": 3
   },
   "file_extension": ".py",
   "mimetype": "text/x-python",
   "name": "python",
   "nbconvert_exporter": "python",
   "pygments_lexer": "ipython3",
   "version": "3.10.9"
  }
 },
 "nbformat": 4,
 "nbformat_minor": 5
}
