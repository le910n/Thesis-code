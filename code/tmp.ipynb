{
 "cells": [
  {
   "cell_type": "code",
   "execution_count": 4,
   "id": "9589dc57-0d6c-4d32-99bf-081b1ba60821",
   "metadata": {},
   "outputs": [],
   "source": [
    "import os\n",
    "import sys\n",
    "import numpy as np\n",
    "import pandas as pd\n",
    "\n",
    "from algorithms import *\n",
    "from similarity_measures import * \n",
    "from datasets import *"
   ]
  },
  {
   "cell_type": "markdown",
   "id": "c2327801-56c4-4aa1-becb-c984227c9d49",
   "metadata": {},
   "source": [
    "# Experimenting with CORE dataset"
   ]
  },
  {
   "cell_type": "code",
   "execution_count": 1,
   "id": "7220f83f-b62f-4163-b3db-9b654b690ba9",
   "metadata": {},
   "outputs": [],
   "source": [
    "# actually we may want to perform several experiments: with topic-distribution or without\n",
    "# as the authous did it with topic_distribution, "
   ]
  },
  {
   "cell_type": "code",
   "execution_count": null,
   "id": "1eeff863-5cd2-475a-bc2a-95e43920027a",
   "metadata": {},
   "outputs": [],
   "source": []
  }
 ],
 "metadata": {
  "kernelspec": {
   "display_name": "Python 3 (ipykernel)",
   "language": "python",
   "name": "python3"
  },
  "language_info": {
   "codemirror_mode": {
    "name": "ipython",
    "version": 3
   },
   "file_extension": ".py",
   "mimetype": "text/x-python",
   "name": "python",
   "nbconvert_exporter": "python",
   "pygments_lexer": "ipython3",
   "version": "3.10.9"
  }
 },
 "nbformat": 4,
 "nbformat_minor": 5
}
