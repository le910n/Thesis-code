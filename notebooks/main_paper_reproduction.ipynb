{
 "cells": [
  {
   "cell_type": "code",
   "execution_count": 1,
   "id": "1da7a41c-bb61-449d-884d-329fc29beada",
   "metadata": {},
   "outputs": [],
   "source": [
    "%load_ext lab_black"
   ]
  },
  {
   "cell_type": "markdown",
   "id": "f275768f-de16-44c7-b07b-247388de49fe",
   "metadata": {},
   "source": [
    "# Necessary installations, imports"
   ]
  },
  {
   "cell_type": "code",
   "execution_count": 4,
   "id": "31bf4e18-4e3e-4a19-84e2-ba3a9cc7ce98",
   "metadata": {},
   "outputs": [],
   "source": [
    "import numpy as np\n",
    "import pandas as pd\n",
    "import requests\n",
    "import networkx as nx\n",
    "import matplotlib.pyplot as plt\n",
    "import seaborn as sns\n",
    "from tqdm.notebook import tqdm\n",
    "from gensim.models import Word2Vec\n",
    "from sklearn.metrics.pairwise import rbf_kernel\n",
    "from sklearn.metrics import mean_squared_error\n",
    "from scipy.sparse import csr_matrix, diags\n",
    "from scipy.sparse.linalg import eigs"
   ]
  },
  {
   "cell_type": "markdown",
   "id": "a71a19d4-04a4-4c5f-aaaf-b225098700ef",
   "metadata": {},
   "source": [
    "# Algorithm 1.\n",
    "\n",
    "That is the algorithm from the main paper of interest. This algorithm is stated to beat SVD-RBF both on sparse and dense nets, when restoring the missing covatiates."
   ]
  },
  {
   "cell_type": "code",
   "execution_count": null,
   "id": "63a03c17-416a-42af-854c-3705b8c767de",
   "metadata": {},
   "outputs": [],
   "source": [
    "def CN_VEC(X, A, S, k, return_time=False):\n",
    "    \"\"\"\n",
    "    Args:\n",
    "        X: array, matrix of all nodes' covariates, rows - objects, cols - covariates (features)\n",
    "        A: array, Adjacency matrix of the graph (now weighted)\n",
    "        S: array of indices, nodes, for which we know covariates\n",
    "        k: number of neighbours\n",
    "    \"\"\"\n",
    "    # mark the starting time\n",
    "    start_time = time.time()\n",
    "    # define the sets we are going to re-use later\n",
    "    all_nodes = set(np.arange(A.shape[0]))\n",
    "    empty_nodes = all_nodes - set(S)\n",
    "    X_hat = X.copy()\n",
    "    C = A.dot(A).A #initially it used to be .A method, which seems to get old\n",
    "    # I use the .toarray() method instead, as it does quite the same, but is much more readable\n",
    "    \n",
    "    # iterate over the empty nodes, managing the logging\n",
    "    for node_i in tqdm(empty_nodes):\n",
    "        Ci = np.ones_like(C) * C[node_i]\n",
    "        Ci[:, node_i] = 0\n",
    "        np.fill_diagonal(Ci, 0)\n",
    "        \n",
    "        Cj = C.copy()\n",
    "        Cj[:, node_i] = 0\n",
    "        np.fill_diagonal(Cj, 0)\n",
    "        \n",
    "        dists = np.sum((Ci**2 - 2) * (Ci >= 2) + (Cj**2 - 2) * (Cj >= 2) - 2 * Ci * Cj, axis=1)[S]\n",
    "        \n",
    "        idxs = np.argsort(dists)[:k]\n",
    "        ktop = np.array(S)[idxs]\n",
    "        X_hat[node_i] = np.mean(X[ktop])\n",
    "        \n",
    "    # a bit of logging, just to fulfill the curiousity\n",
    "    print(f'The time, taken to build the X_hat matrix is {time.time() - start_time}')\n",
    "    if return_time:\n",
    "        return X_hat, time.time() - start_time\n",
    "    return X_hat"
   ]
  },
  {
   "cell_type": "code",
   "execution_count": 20,
   "id": "d22ecbb5-6698-4553-a183-276a0501889b",
   "metadata": {},
   "outputs": [
    {
     "name": "stdout",
     "output_type": "stream",
     "text": [
      "  (0, 0)\t6.0\n",
      "  (0, 1)\t3.0\n",
      "  (0, 2)\t8.0\n",
      "  (1, 0)\t2.0\n",
      "  (1, 2)\t2.0\n",
      "  (2, 0)\t9.0\n",
      "  (2, 1)\t4.0\n",
      "  (2, 2)\t3.0\n",
      "  (0, 2)\t78.0\n",
      "  (0, 1)\t50.0\n",
      "  (0, 0)\t114.0\n",
      "  (1, 2)\t22.0\n",
      "  (1, 1)\t14.0\n",
      "  (1, 0)\t30.0\n",
      "  (2, 2)\t89.0\n",
      "  (2, 1)\t39.0\n",
      "  (2, 0)\t89.0\n",
      "[[114.  50.  78.]\n",
      " [ 30.  14.  22.]\n",
      " [ 89.  39.  89.]]\n"
     ]
    }
   ],
   "source": [
    "A = csr_matrix(np.random.randint(0, 10, (3, 3)), dtype=np.float64)\n",
    "print(A)\n",
    "print(A.dot(A))\n",
    "print(A.dot(A).toarray())"
   ]
  },
  {
   "cell_type": "code",
   "execution_count": 16,
   "id": "11220845-3be2-4293-a662-a100e78fcb8f",
   "metadata": {},
   "outputs": [
    {
     "ename": "AttributeError",
     "evalue": "'numpy.ndarray' object has no attribute 'A'",
     "output_type": "error",
     "traceback": [
      "\u001b[0;31m---------------------------------------------------------------------------\u001b[0m",
      "\u001b[0;31mAttributeError\u001b[0m                            Traceback (most recent call last)",
      "Cell \u001b[0;32mIn[16], line 1\u001b[0m\n\u001b[0;32m----> 1\u001b[0m \u001b[43mA\u001b[49m\u001b[38;5;241;43m.\u001b[39;49m\u001b[43mdot\u001b[49m\u001b[43m(\u001b[49m\u001b[43mA\u001b[49m\u001b[43m)\u001b[49m\u001b[38;5;241;43m.\u001b[39;49m\u001b[43mA\u001b[49m\n",
      "\u001b[0;31mAttributeError\u001b[0m: 'numpy.ndarray' object has no attribute 'A'"
     ]
    }
   ],
   "source": [
    "A.dot(A).A"
   ]
  },
  {
   "cell_type": "code",
   "execution_count": null,
   "id": "ac43db79-7027-4bfb-bf8b-128b36efa573",
   "metadata": {},
   "outputs": [],
   "source": []
  }
 ],
 "metadata": {
  "kernelspec": {
   "display_name": "Python 3 (ipykernel)",
   "language": "python",
   "name": "python3"
  },
  "language_info": {
   "codemirror_mode": {
    "name": "ipython",
    "version": 3
   },
   "file_extension": ".py",
   "mimetype": "text/x-python",
   "name": "python",
   "nbconvert_exporter": "python",
   "pygments_lexer": "ipython3",
   "version": "3.10.9"
  }
 },
 "nbformat": 4,
 "nbformat_minor": 5
}
